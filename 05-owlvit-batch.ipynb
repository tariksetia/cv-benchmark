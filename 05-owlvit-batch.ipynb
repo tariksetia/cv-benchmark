{
 "cells": [
  {
   "cell_type": "code",
   "execution_count": 7,
   "id": "abddf18a-23c4-4684-a3cb-d6aa4cfc4cbd",
   "metadata": {
    "tags": []
   },
   "outputs": [],
   "source": [
    "!python -m pip install -q transformers\n",
    "!python -m pip install -q pillow\n",
    "!python -m pip install -q loguru\n",
    "!python -m pip install -q pydantic\n",
    "!python -m pip install -q pandas\n",
    "!python -m pip install -q opencv-python"
   ]
  },
  {
   "cell_type": "code",
   "execution_count": 5,
   "id": "a7a195d6-ce49-4b92-add1-6aa200c422cc",
   "metadata": {
    "tags": []
   },
   "outputs": [
    {
     "name": "stderr",
     "output_type": "stream",
     "text": [
      "/Users/tarik.setia/lab/cv-benchmark/.venv/lib/python3.10/site-packages/tqdm/auto.py:21: TqdmWarning: IProgress not found. Please update jupyter and ipywidgets. See https://ipywidgets.readthedocs.io/en/stable/user_install.html\n",
      "  from .autonotebook import tqdm as notebook_tqdm\n"
     ]
    }
   ],
   "source": [
    "\n",
    "from PIL import Image\n",
    "import torch\n",
    "from transformers import OwlViTProcessor, OwlViTForObjectDetection"
   ]
  },
  {
   "cell_type": "code",
   "execution_count": 6,
   "id": "98395948-5a69-451b-98b5-be1c2fb197ee",
   "metadata": {
    "tags": []
   },
   "outputs": [
    {
     "data": {
      "text/plain": [
       "'cpu'"
      ]
     },
     "execution_count": 6,
     "metadata": {},
     "output_type": "execute_result"
    }
   ],
   "source": [
    "device = \"cuda\" if torch.cuda.is_available() else \"cpu\"\n",
    "device"
   ]
  },
  {
   "cell_type": "code",
   "execution_count": 7,
   "id": "399e333d-a46c-4cbb-a76b-0fbf7f01e3ec",
   "metadata": {
    "tags": []
   },
   "outputs": [],
   "source": [
    "processor = OwlViTProcessor.from_pretrained(\"google/owlvit-large-patch14\")\n",
    "model = OwlViTForObjectDetection.from_pretrained(\"google/owlvit-large-patch14\").to(device)"
   ]
  },
  {
   "cell_type": "code",
   "execution_count": 8,
   "id": "918ae3a4-4e34-49da-b8a6-be114c53d734",
   "metadata": {
    "tags": []
   },
   "outputs": [
    {
     "data": {
      "text/plain": [
       "OwlViTForObjectDetection(\n",
       "  (owlvit): OwlViTModel(\n",
       "    (text_model): OwlViTTextTransformer(\n",
       "      (embeddings): OwlViTTextEmbeddings(\n",
       "        (token_embedding): Embedding(49408, 768)\n",
       "        (position_embedding): Embedding(16, 768)\n",
       "      )\n",
       "      (encoder): OwlViTEncoder(\n",
       "        (layers): ModuleList(\n",
       "          (0-11): 12 x OwlViTEncoderLayer(\n",
       "            (self_attn): OwlViTAttention(\n",
       "              (k_proj): Linear(in_features=768, out_features=768, bias=True)\n",
       "              (v_proj): Linear(in_features=768, out_features=768, bias=True)\n",
       "              (q_proj): Linear(in_features=768, out_features=768, bias=True)\n",
       "              (out_proj): Linear(in_features=768, out_features=768, bias=True)\n",
       "            )\n",
       "            (layer_norm1): LayerNorm((768,), eps=1e-05, elementwise_affine=True)\n",
       "            (mlp): OwlViTMLP(\n",
       "              (activation_fn): QuickGELUActivation()\n",
       "              (fc1): Linear(in_features=768, out_features=3072, bias=True)\n",
       "              (fc2): Linear(in_features=3072, out_features=768, bias=True)\n",
       "            )\n",
       "            (layer_norm2): LayerNorm((768,), eps=1e-05, elementwise_affine=True)\n",
       "          )\n",
       "        )\n",
       "      )\n",
       "      (final_layer_norm): LayerNorm((768,), eps=1e-05, elementwise_affine=True)\n",
       "    )\n",
       "    (vision_model): OwlViTVisionTransformer(\n",
       "      (embeddings): OwlViTVisionEmbeddings(\n",
       "        (patch_embedding): Conv2d(3, 1024, kernel_size=(14, 14), stride=(14, 14), bias=False)\n",
       "        (position_embedding): Embedding(3601, 1024)\n",
       "      )\n",
       "      (pre_layernorm): LayerNorm((1024,), eps=1e-05, elementwise_affine=True)\n",
       "      (encoder): OwlViTEncoder(\n",
       "        (layers): ModuleList(\n",
       "          (0-23): 24 x OwlViTEncoderLayer(\n",
       "            (self_attn): OwlViTAttention(\n",
       "              (k_proj): Linear(in_features=1024, out_features=1024, bias=True)\n",
       "              (v_proj): Linear(in_features=1024, out_features=1024, bias=True)\n",
       "              (q_proj): Linear(in_features=1024, out_features=1024, bias=True)\n",
       "              (out_proj): Linear(in_features=1024, out_features=1024, bias=True)\n",
       "            )\n",
       "            (layer_norm1): LayerNorm((1024,), eps=1e-05, elementwise_affine=True)\n",
       "            (mlp): OwlViTMLP(\n",
       "              (activation_fn): QuickGELUActivation()\n",
       "              (fc1): Linear(in_features=1024, out_features=4096, bias=True)\n",
       "              (fc2): Linear(in_features=4096, out_features=1024, bias=True)\n",
       "            )\n",
       "            (layer_norm2): LayerNorm((1024,), eps=1e-05, elementwise_affine=True)\n",
       "          )\n",
       "        )\n",
       "      )\n",
       "      (post_layernorm): LayerNorm((1024,), eps=1e-05, elementwise_affine=True)\n",
       "    )\n",
       "    (visual_projection): Linear(in_features=1024, out_features=768, bias=False)\n",
       "    (text_projection): Linear(in_features=768, out_features=768, bias=False)\n",
       "  )\n",
       "  (class_head): OwlViTClassPredictionHead(\n",
       "    (dense0): Linear(in_features=1024, out_features=768, bias=True)\n",
       "    (logit_shift): Linear(in_features=1024, out_features=1, bias=True)\n",
       "    (logit_scale): Linear(in_features=1024, out_features=1, bias=True)\n",
       "    (elu): ELU(alpha=1.0)\n",
       "  )\n",
       "  (box_head): OwlViTBoxPredictionHead(\n",
       "    (dense0): Linear(in_features=1024, out_features=1024, bias=True)\n",
       "    (dense1): Linear(in_features=1024, out_features=1024, bias=True)\n",
       "    (gelu): GELU(approximate='none')\n",
       "    (dense2): Linear(in_features=1024, out_features=4, bias=True)\n",
       "  )\n",
       "  (layer_norm): LayerNorm((1024,), eps=1e-05, elementwise_affine=True)\n",
       "  (sigmoid): Sigmoid()\n",
       ")"
      ]
     },
     "execution_count": 8,
     "metadata": {},
     "output_type": "execute_result"
    }
   ],
   "source": [
    "model.eval()"
   ]
  },
  {
   "cell_type": "code",
   "execution_count": 9,
   "id": "953acdb9-1ce8-4ce5-97a1-f80f5865ddb7",
   "metadata": {
    "tags": []
   },
   "outputs": [
    {
     "data": {
      "text/plain": [
       "device(type='cpu')"
      ]
     },
     "execution_count": 9,
     "metadata": {},
     "output_type": "execute_result"
    }
   ],
   "source": [
    "model.device"
   ]
  },
  {
   "cell_type": "code",
   "execution_count": 17,
   "id": "86338b6e",
   "metadata": {},
   "outputs": [],
   "source": [
    "\n",
    "from statistics import mean\n",
    "import time\n",
    "import torch\n",
    "from utils.protocols import OwlVit\n",
    "from utils.utils import convert_model_detection\n",
    "from utils.video import read_vid_batch, read_video\n",
    "from utils.utils import get_file_name, get_gpu_name\n",
    "from loguru import logger\n",
    "from datetime import datetime\n",
    "\n",
    "MODEL= \"owlvit-large-p14-hf\"\n",
    "\n",
    "text = \"face\"\n",
    "BASE_DIR = \"experiments/owlvit\"\n",
    "BATCH_SIZE = 4\n",
    "\n",
    "\n",
    "def process_video(video):\n",
    "    start_time = datetime.now()\n",
    "    target_sizes = None\n",
    "    results = {}\n",
    "    pre_processing_times = []\n",
    "    inference_times = []\n",
    "    post_processing_times = []\n",
    "    \n",
    "    for batch in read_vid_batch(video, batch_size=BATCH_SIZE):\n",
    "        logger.info(f\"Preprocessing batch: {len(batch)}\")\n",
    "        start = time.time()\n",
    "        frame_ids = batch.keys()\n",
    "        frames =  [Image.fromarray(frame.astype(\"uint8\")) for frame in batch.values()]\n",
    "        prompts = [text for _ in frames]\n",
    "        target_sizes = [frame.size for frame in frames]\n",
    "        inputs = processor(images=frames, text=prompts, return_tensors=\"pt\").to(device)\n",
    "        \n",
    "        pre_processing_times.append(time.time()-start)\n",
    "        \n",
    "        logger.info(f\"Running Inference\")\n",
    "        start = time.time()\n",
    "        with torch.no_grad():\n",
    "            outputs = model(**inputs)\n",
    "        inference_times.append(time.time()-start)\n",
    "        \n",
    "        logger.info(f\"PostPorcessing\")\n",
    "        start = time.time()\n",
    "        detections = processor.post_process_object_detection(outputs=outputs, threshold=0.1, target_sizes=target_sizes)\n",
    "        batch_result =  {frame_id: convert_model_detection(detection) for frame_id, detection in zip(frame_ids, detections)}\n",
    "        results = {**results, **batch_result}\n",
    "        post_processing_times.append(time.time()-start)\n",
    "        torch.cuda.empty_cache()\n",
    "\n",
    "    end_time = datetime.now()\n",
    "    n_frames = len(results)\n",
    "    \n",
    "    exp =  OwlVit(\n",
    "        model=MODEL,\n",
    "        gpu=get_gpu_name(),\n",
    "        video_file=video,\n",
    "        frames=None,\n",
    "        batch_size=BATCH_SIZE,\n",
    "        n_frames=n_frames,\n",
    "        \n",
    "        pre_processing_time=sum(pre_processing_times),\n",
    "        inference_time=sum(inference_times),\n",
    "        post_processing_time=sum(post_processing_times),\n",
    "        video_processing_time=(end_time-start_time).seconds,\n",
    "       \n",
    "        start_time=start_time.isoformat(),\n",
    "        end_time=end_time.isoformat(),\n",
    "        record_file=get_file_name(BASE_DIR, start, MODEL, video),\n",
    "        \n",
    "        data=results,\n",
    "        prompt=text,\n",
    "        \n",
    "    )\n",
    "    exp.save()\n",
    "    exp.log()\n",
    "    torch.cuda.empty_cache()\n",
    "    return exp"
   ]
  },
  {
   "cell_type": "code",
   "execution_count": 18,
   "id": "4c2b02ff",
   "metadata": {},
   "outputs": [
    {
     "name": "stderr",
     "output_type": "stream",
     "text": [
      "\u001b[32m2024-06-12 16:09:47.293\u001b[0m | \u001b[1mINFO    \u001b[0m | \u001b[36m__main__\u001b[0m:\u001b[36mprocess_video\u001b[0m:\u001b[36m27\u001b[0m - \u001b[1mPreprocessing batch: 4\u001b[0m\n",
      "\u001b[32m2024-06-12 16:09:47.411\u001b[0m | \u001b[1mINFO    \u001b[0m | \u001b[36m__main__\u001b[0m:\u001b[36mprocess_video\u001b[0m:\u001b[36m37\u001b[0m - \u001b[1mRunning Inference\u001b[0m\n",
      "\u001b[32m2024-06-12 16:10:33.988\u001b[0m | \u001b[1mINFO    \u001b[0m | \u001b[36m__main__\u001b[0m:\u001b[36mprocess_video\u001b[0m:\u001b[36m43\u001b[0m - \u001b[1mPostPorcessing\u001b[0m\n",
      "\u001b[32m2024-06-12 16:10:34.033\u001b[0m | \u001b[1mINFO    \u001b[0m | \u001b[36m__main__\u001b[0m:\u001b[36mprocess_video\u001b[0m:\u001b[36m27\u001b[0m - \u001b[1mPreprocessing batch: 4\u001b[0m\n",
      "\u001b[32m2024-06-12 16:10:34.188\u001b[0m | \u001b[1mINFO    \u001b[0m | \u001b[36m__main__\u001b[0m:\u001b[36mprocess_video\u001b[0m:\u001b[36m37\u001b[0m - \u001b[1mRunning Inference\u001b[0m\n",
      "\u001b[32m2024-06-12 16:11:20.331\u001b[0m | \u001b[1mINFO    \u001b[0m | \u001b[36m__main__\u001b[0m:\u001b[36mprocess_video\u001b[0m:\u001b[36m43\u001b[0m - \u001b[1mPostPorcessing\u001b[0m\n",
      "\u001b[32m2024-06-12 16:11:20.362\u001b[0m | \u001b[1mINFO    \u001b[0m | \u001b[36m__main__\u001b[0m:\u001b[36mprocess_video\u001b[0m:\u001b[36m27\u001b[0m - \u001b[1mPreprocessing batch: 4\u001b[0m\n",
      "\u001b[32m2024-06-12 16:11:20.498\u001b[0m | \u001b[1mINFO    \u001b[0m | \u001b[36m__main__\u001b[0m:\u001b[36mprocess_video\u001b[0m:\u001b[36m37\u001b[0m - \u001b[1mRunning Inference\u001b[0m\n",
      "\u001b[32m2024-06-12 16:11:57.965\u001b[0m | \u001b[1mINFO    \u001b[0m | \u001b[36m__main__\u001b[0m:\u001b[36mprocess_video\u001b[0m:\u001b[36m43\u001b[0m - \u001b[1mPostPorcessing\u001b[0m\n",
      "\u001b[32m2024-06-12 16:11:57.977\u001b[0m | \u001b[1mINFO    \u001b[0m | \u001b[36m__main__\u001b[0m:\u001b[36mprocess_video\u001b[0m:\u001b[36m27\u001b[0m - \u001b[1mPreprocessing batch: 4\u001b[0m\n",
      "\u001b[32m2024-06-12 16:11:58.103\u001b[0m | \u001b[1mINFO    \u001b[0m | \u001b[36m__main__\u001b[0m:\u001b[36mprocess_video\u001b[0m:\u001b[36m37\u001b[0m - \u001b[1mRunning Inference\u001b[0m\n"
     ]
    }
   ],
   "source": [
    "d = process_video(\"data/720.mp4\")"
   ]
  },
  {
   "cell_type": "code",
   "execution_count": null,
   "id": "0736c7df",
   "metadata": {},
   "outputs": [],
   "source": []
  }
 ],
 "metadata": {
  "kernelspec": {
   "display_name": "Python 3 (ipykernel)",
   "language": "python",
   "name": "python3"
  },
  "language_info": {
   "codemirror_mode": {
    "name": "ipython",
    "version": 3
   },
   "file_extension": ".py",
   "mimetype": "text/x-python",
   "name": "python",
   "nbconvert_exporter": "python",
   "pygments_lexer": "ipython3",
   "version": "3.10.11"
  }
 },
 "nbformat": 4,
 "nbformat_minor": 5
}
