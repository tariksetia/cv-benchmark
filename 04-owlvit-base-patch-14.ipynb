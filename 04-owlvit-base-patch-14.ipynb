{
 "cells": [
  {
   "cell_type": "code",
   "execution_count": 7,
   "id": "abddf18a-23c4-4684-a3cb-d6aa4cfc4cbd",
   "metadata": {
    "tags": []
   },
   "outputs": [],
   "source": [
    "!python -m pip install -q transformers\n",
    "!python -m pip install -q pillow\n",
    "!python -m pip install -q loguru\n",
    "!python -m pip install -q pydantic\n",
    "!python -m pip install -q pandas\n",
    "!python -m pip install -q opencv-python"
   ]
  },
  {
   "cell_type": "code",
   "execution_count": 2,
   "id": "a7a195d6-ce49-4b92-add1-6aa200c422cc",
   "metadata": {
    "tags": []
   },
   "outputs": [
    {
     "name": "stderr",
     "output_type": "stream",
     "text": [
      "/Users/tarik.setia/lab/cv-benchmark/.venv/lib/python3.10/site-packages/tqdm/auto.py:21: TqdmWarning: IProgress not found. Please update jupyter and ipywidgets. See https://ipywidgets.readthedocs.io/en/stable/user_install.html\n",
      "  from .autonotebook import tqdm as notebook_tqdm\n"
     ]
    }
   ],
   "source": [
    "from PIL import Image\n",
    "import torch\n",
    "\n",
    "from transformers import OwlViTProcessor, OwlViTForObjectDetection"
   ]
  },
  {
   "cell_type": "code",
   "execution_count": 3,
   "id": "98395948-5a69-451b-98b5-be1c2fb197ee",
   "metadata": {
    "tags": []
   },
   "outputs": [
    {
     "data": {
      "text/plain": [
       "'cpu'"
      ]
     },
     "execution_count": 3,
     "metadata": {},
     "output_type": "execute_result"
    }
   ],
   "source": [
    "device = \"cuda\" if torch.cuda.is_available() else \"cpu\"\n",
    "device"
   ]
  },
  {
   "cell_type": "code",
   "execution_count": 4,
   "id": "399e333d-a46c-4cbb-a76b-0fbf7f01e3ec",
   "metadata": {
    "tags": []
   },
   "outputs": [],
   "source": [
    "processor = OwlViTProcessor.from_pretrained(\"google/owlvit-large-patch14\")\n",
    "model = OwlViTForObjectDetection.from_pretrained(\"google/owlvit-large-patch14\").to(device)"
   ]
  },
  {
   "cell_type": "code",
   "execution_count": 5,
   "id": "918ae3a4-4e34-49da-b8a6-be114c53d734",
   "metadata": {
    "tags": []
   },
   "outputs": [
    {
     "data": {
      "text/plain": [
       "OwlViTForObjectDetection(\n",
       "  (owlvit): OwlViTModel(\n",
       "    (text_model): OwlViTTextTransformer(\n",
       "      (embeddings): OwlViTTextEmbeddings(\n",
       "        (token_embedding): Embedding(49408, 768)\n",
       "        (position_embedding): Embedding(16, 768)\n",
       "      )\n",
       "      (encoder): OwlViTEncoder(\n",
       "        (layers): ModuleList(\n",
       "          (0-11): 12 x OwlViTEncoderLayer(\n",
       "            (self_attn): OwlViTAttention(\n",
       "              (k_proj): Linear(in_features=768, out_features=768, bias=True)\n",
       "              (v_proj): Linear(in_features=768, out_features=768, bias=True)\n",
       "              (q_proj): Linear(in_features=768, out_features=768, bias=True)\n",
       "              (out_proj): Linear(in_features=768, out_features=768, bias=True)\n",
       "            )\n",
       "            (layer_norm1): LayerNorm((768,), eps=1e-05, elementwise_affine=True)\n",
       "            (mlp): OwlViTMLP(\n",
       "              (activation_fn): QuickGELUActivation()\n",
       "              (fc1): Linear(in_features=768, out_features=3072, bias=True)\n",
       "              (fc2): Linear(in_features=3072, out_features=768, bias=True)\n",
       "            )\n",
       "            (layer_norm2): LayerNorm((768,), eps=1e-05, elementwise_affine=True)\n",
       "          )\n",
       "        )\n",
       "      )\n",
       "      (final_layer_norm): LayerNorm((768,), eps=1e-05, elementwise_affine=True)\n",
       "    )\n",
       "    (vision_model): OwlViTVisionTransformer(\n",
       "      (embeddings): OwlViTVisionEmbeddings(\n",
       "        (patch_embedding): Conv2d(3, 1024, kernel_size=(14, 14), stride=(14, 14), bias=False)\n",
       "        (position_embedding): Embedding(3601, 1024)\n",
       "      )\n",
       "      (pre_layernorm): LayerNorm((1024,), eps=1e-05, elementwise_affine=True)\n",
       "      (encoder): OwlViTEncoder(\n",
       "        (layers): ModuleList(\n",
       "          (0-23): 24 x OwlViTEncoderLayer(\n",
       "            (self_attn): OwlViTAttention(\n",
       "              (k_proj): Linear(in_features=1024, out_features=1024, bias=True)\n",
       "              (v_proj): Linear(in_features=1024, out_features=1024, bias=True)\n",
       "              (q_proj): Linear(in_features=1024, out_features=1024, bias=True)\n",
       "              (out_proj): Linear(in_features=1024, out_features=1024, bias=True)\n",
       "            )\n",
       "            (layer_norm1): LayerNorm((1024,), eps=1e-05, elementwise_affine=True)\n",
       "            (mlp): OwlViTMLP(\n",
       "              (activation_fn): QuickGELUActivation()\n",
       "              (fc1): Linear(in_features=1024, out_features=4096, bias=True)\n",
       "              (fc2): Linear(in_features=4096, out_features=1024, bias=True)\n",
       "            )\n",
       "            (layer_norm2): LayerNorm((1024,), eps=1e-05, elementwise_affine=True)\n",
       "          )\n",
       "        )\n",
       "      )\n",
       "      (post_layernorm): LayerNorm((1024,), eps=1e-05, elementwise_affine=True)\n",
       "    )\n",
       "    (visual_projection): Linear(in_features=1024, out_features=768, bias=False)\n",
       "    (text_projection): Linear(in_features=768, out_features=768, bias=False)\n",
       "  )\n",
       "  (class_head): OwlViTClassPredictionHead(\n",
       "    (dense0): Linear(in_features=1024, out_features=768, bias=True)\n",
       "    (logit_shift): Linear(in_features=1024, out_features=1, bias=True)\n",
       "    (logit_scale): Linear(in_features=1024, out_features=1, bias=True)\n",
       "    (elu): ELU(alpha=1.0)\n",
       "  )\n",
       "  (box_head): OwlViTBoxPredictionHead(\n",
       "    (dense0): Linear(in_features=1024, out_features=1024, bias=True)\n",
       "    (dense1): Linear(in_features=1024, out_features=1024, bias=True)\n",
       "    (gelu): GELU(approximate='none')\n",
       "    (dense2): Linear(in_features=1024, out_features=4, bias=True)\n",
       "  )\n",
       "  (layer_norm): LayerNorm((1024,), eps=1e-05, elementwise_affine=True)\n",
       "  (sigmoid): Sigmoid()\n",
       ")"
      ]
     },
     "execution_count": 5,
     "metadata": {},
     "output_type": "execute_result"
    }
   ],
   "source": [
    "model.eval()"
   ]
  },
  {
   "cell_type": "code",
   "execution_count": 6,
   "id": "953acdb9-1ce8-4ce5-97a1-f80f5865ddb7",
   "metadata": {
    "tags": []
   },
   "outputs": [
    {
     "data": {
      "text/plain": [
       "device(type='cpu')"
      ]
     },
     "execution_count": 6,
     "metadata": {},
     "output_type": "execute_result"
    }
   ],
   "source": [
    "model.device"
   ]
  },
  {
   "cell_type": "code",
   "execution_count": 7,
   "id": "4ae86f6e-db78-414d-ab17-552556e08bd4",
   "metadata": {
    "tags": []
   },
   "outputs": [],
   "source": [
    "\n",
    "import time\n",
    "import torch\n",
    "from utils.protocols import OwlVit\n",
    "from utils.utils import convert_model_detection\n",
    "from utils.video import read_video\n",
    "from utils.utils import get_file_name, get_gpu_name\n",
    "from loguru import logger\n",
    "from datetime import datetime\n",
    "\n",
    "MODEL= \"owlvit-large-p14-hf\"\n",
    "\n",
    "text = \"face\"\n",
    "BASE_DIR = \"experiments/owlvit\"\n",
    "\n",
    "def run_model(frames):\n",
    "    results = {}\n",
    "    for frame_id, frame in frames.items():\n",
    "        with torch.no_grad():\n",
    "            outputs = model(**frame)\n",
    "            results[frame_id] = outputs\n",
    "    return results\n",
    "\n",
    "def process_video(video, frames=[]):\n",
    "    start_time = datetime.now()\n",
    "    target_sizes = None\n",
    "    \n",
    "    frames_ = {}\n",
    "    start = time.time()\n",
    "    for frame_id, frame in read_video(video):\n",
    "        image = Image.fromarray(frame.astype(\"uint8\"))\n",
    "        inputs = processor(images=image, text=text, return_tensors=\"pt\").to(device)\n",
    "        frames_[frame_id] = inputs\n",
    "        if not target_sizes:\n",
    "            target_sizes = torch.Tensor([image.size[::-1]])\n",
    "    \n",
    "    pre_processing_time = time.time() - start\n",
    "    \n",
    "    n_frames = len(frames_)\n",
    "    \n",
    "    start = time.time()\n",
    "    outputs = run_model(frames_)\n",
    "    inference_time = time.time() - start\n",
    "    \n",
    "    results = {}\n",
    "    start = time.time()\n",
    "    for frame_id, output in outputs.items():    \n",
    "        detections = processor.post_process_object_detection(outputs=output, threshold=0.1, target_sizes=target_sizes)\n",
    "        results[frame_id] = convert_model_detection(detections[0])\n",
    "    post_processing_time = time.time() - start\n",
    "\n",
    "    end_time = datetime.now()\n",
    "    \n",
    "    exp =  OwlVit(\n",
    "        model=MODEL,\n",
    "        gpu=get_gpu_name(),\n",
    "        video_file=video,\n",
    "        frames=None if not frames else frames,\n",
    "        n_frames=n_frames,\n",
    "        \n",
    "        pre_processing_time=pre_processing_time,\n",
    "        inference_time=inference_time,\n",
    "        post_processing_time=post_processing_time,\n",
    "        video_processing_time=(end_time-start_time).seconds,\n",
    "       \n",
    "        start_time=start_time.isoformat(),\n",
    "        end_time=end_time.isoformat(),\n",
    "        record_file=get_file_name(BASE_DIR, start, MODEL, video),\n",
    "        \n",
    "        data=results,\n",
    "        prompt=text,\n",
    "        \n",
    "    )\n",
    "    exp.save()\n",
    "    exp.log()\n",
    "    torch.cuda.empty_cache()\n",
    "    return exp"
   ]
  },
  {
   "cell_type": "code",
   "execution_count": 8,
   "id": "fceb8fc2-5ccd-459c-b5bb-f95a416b0514",
   "metadata": {
    "tags": []
   },
   "outputs": [
    {
     "name": "stderr",
     "output_type": "stream",
     "text": [
      "\u001b[32m2024-06-12 00:39:12.774\u001b[0m | \u001b[1mINFO    \u001b[0m | \u001b[36m__main__\u001b[0m:\u001b[36mprocess_video\u001b[0m:\u001b[36m26\u001b[0m - \u001b[1mReading Frame\u001b[0m\n",
      "\u001b[32m2024-06-12 00:39:21.206\u001b[0m | \u001b[1mINFO    \u001b[0m | \u001b[36m__main__\u001b[0m:\u001b[36mprocess_video\u001b[0m:\u001b[36m39\u001b[0m - \u001b[1mnframes = 3\u001b[0m\n",
      "\u001b[32m2024-06-12 00:39:21.207\u001b[0m | \u001b[1mINFO    \u001b[0m | \u001b[36m__main__\u001b[0m:\u001b[36mprocess_video\u001b[0m:\u001b[36m40\u001b[0m - \u001b[1mRunning MOdel\u001b[0m\n",
      "\u001b[32m2024-06-12 00:39:48.419\u001b[0m | \u001b[1mINFO    \u001b[0m | \u001b[36m__main__\u001b[0m:\u001b[36mprocess_video\u001b[0m:\u001b[36m45\u001b[0m - \u001b[1mRunning Postprocessing\u001b[0m\n",
      "\u001b[32m2024-06-12 00:39:48.421\u001b[0m | \u001b[1mINFO    \u001b[0m | \u001b[36m__main__\u001b[0m:\u001b[36mprocess_video\u001b[0m:\u001b[36m53\u001b[0m - \u001b[1mDone!\u001b[0m\n",
      "\u001b[32m2024-06-12 00:39:48.423\u001b[0m | \u001b[1mINFO    \u001b[0m | \u001b[36mutils.protocols\u001b[0m:\u001b[36mlog\u001b[0m:\u001b[36m113\u001b[0m - \u001b[1mdata/720.mp4 | frames=3 | model_fps=0.11024676022476197 | inference_time=27.211683988571167 | preprocess_time=8.374552011489868\u001b[0m\n",
      "\u001b[32m2024-06-12 00:39:48.429\u001b[0m | \u001b[1mINFO    \u001b[0m | \u001b[36m__main__\u001b[0m:\u001b[36mprocess_video\u001b[0m:\u001b[36m26\u001b[0m - \u001b[1mReading Frame\u001b[0m\n",
      "\u001b[32m2024-06-12 00:40:00.111\u001b[0m | \u001b[1mINFO    \u001b[0m | \u001b[36m__main__\u001b[0m:\u001b[36mprocess_video\u001b[0m:\u001b[36m39\u001b[0m - \u001b[1mnframes = 3\u001b[0m\n",
      "\u001b[32m2024-06-12 00:40:00.112\u001b[0m | \u001b[1mINFO    \u001b[0m | \u001b[36m__main__\u001b[0m:\u001b[36mprocess_video\u001b[0m:\u001b[36m40\u001b[0m - \u001b[1mRunning MOdel\u001b[0m\n",
      "\u001b[32m2024-06-12 00:40:26.406\u001b[0m | \u001b[1mINFO    \u001b[0m | \u001b[36m__main__\u001b[0m:\u001b[36mprocess_video\u001b[0m:\u001b[36m45\u001b[0m - \u001b[1mRunning Postprocessing\u001b[0m\n",
      "\u001b[32m2024-06-12 00:40:26.408\u001b[0m | \u001b[1mINFO    \u001b[0m | \u001b[36m__main__\u001b[0m:\u001b[36mprocess_video\u001b[0m:\u001b[36m53\u001b[0m - \u001b[1mDone!\u001b[0m\n",
      "\u001b[32m2024-06-12 00:40:26.409\u001b[0m | \u001b[1mINFO    \u001b[0m | \u001b[36mutils.protocols\u001b[0m:\u001b[36mlog\u001b[0m:\u001b[36m113\u001b[0m - \u001b[1mdata/1080.mp4 | frames=3 | model_fps=0.11409755569734754 | inference_time=26.293288946151733 | preprocess_time=11.629296064376831\u001b[0m\n"
     ]
    }
   ],
   "source": [
    "results = []\n",
    "for i in range(1):\n",
    "    vid_hd = process_video(\"data/720.mp4\")\n",
    "    results.append(vid_hd)\n",
    "    vid_fhd = process_video(\"data/1080.mp4\")\n",
    "    results.append(vid_fhd)"
   ]
  },
  {
   "cell_type": "code",
   "execution_count": 9,
   "id": "c1d4e69a-c183-4acd-a2f9-88b90555aeeb",
   "metadata": {
    "tags": []
   },
   "outputs": [],
   "source": [
    "columns = results[0].columns\n",
    "rows = [result.row for result in results]"
   ]
  },
  {
   "cell_type": "code",
   "execution_count": 10,
   "id": "49ddafb9-ff66-474d-909a-45d9c2ad6b35",
   "metadata": {},
   "outputs": [
    {
     "data": {
      "text/html": [
       "<div>\n",
       "<style scoped>\n",
       "    .dataframe tbody tr th:only-of-type {\n",
       "        vertical-align: middle;\n",
       "    }\n",
       "\n",
       "    .dataframe tbody tr th {\n",
       "        vertical-align: top;\n",
       "    }\n",
       "\n",
       "    .dataframe thead th {\n",
       "        text-align: right;\n",
       "    }\n",
       "</style>\n",
       "<table border=\"1\" class=\"dataframe\">\n",
       "  <thead>\n",
       "    <tr style=\"text-align: right;\">\n",
       "      <th></th>\n",
       "      <th>model</th>\n",
       "      <th>gpu</th>\n",
       "      <th>video_file</th>\n",
       "      <th>batch_size</th>\n",
       "      <th>n_frames</th>\n",
       "      <th>pre_processing_fps</th>\n",
       "      <th>inference_fps</th>\n",
       "      <th>post_processing_fps</th>\n",
       "      <th>video_fps</th>\n",
       "      <th>pre_processing_time</th>\n",
       "      <th>inference_time</th>\n",
       "      <th>post_processing_time</th>\n",
       "      <th>video_processing_time</th>\n",
       "      <th>start_time</th>\n",
       "      <th>end_time</th>\n",
       "      <th>record_file</th>\n",
       "      <th>prompt</th>\n",
       "      <th>data</th>\n",
       "    </tr>\n",
       "  </thead>\n",
       "  <tbody>\n",
       "    <tr>\n",
       "      <th>0</th>\n",
       "      <td>owlvit-large-p14-hf</td>\n",
       "      <td>cpu</td>\n",
       "      <td>data/720.mp4</td>\n",
       "      <td>1</td>\n",
       "      <td>3</td>\n",
       "      <td>0.358228</td>\n",
       "      <td>0.110247</td>\n",
       "      <td>1414.446043</td>\n",
       "      <td>0.085714</td>\n",
       "      <td>8.374552</td>\n",
       "      <td>27.211684</td>\n",
       "      <td>0.002121</td>\n",
       "      <td>35</td>\n",
       "      <td>2024-06-12T00:39:12.774421</td>\n",
       "      <td>2024-06-12T00:39:48.422247</td>\n",
       "      <td>experiments/owlvit/exp-owlvit-large-p14-hf-cpu...</td>\n",
       "      <td>face</td>\n",
       "      <td>{0: [box=[366.6923522949219, 66.16351318359375...</td>\n",
       "    </tr>\n",
       "    <tr>\n",
       "      <th>1</th>\n",
       "      <td>owlvit-large-p14-hf</td>\n",
       "      <td>cpu</td>\n",
       "      <td>data/1080.mp4</td>\n",
       "      <td>1</td>\n",
       "      <td>3</td>\n",
       "      <td>0.257969</td>\n",
       "      <td>0.114098</td>\n",
       "      <td>2181.881741</td>\n",
       "      <td>0.081081</td>\n",
       "      <td>11.629296</td>\n",
       "      <td>26.293289</td>\n",
       "      <td>0.001375</td>\n",
       "      <td>37</td>\n",
       "      <td>2024-06-12T00:39:48.429717</td>\n",
       "      <td>2024-06-12T00:40:26.408882</td>\n",
       "      <td>experiments/owlvit/exp-owlvit-large-p14-hf-cpu...</td>\n",
       "      <td>face</td>\n",
       "      <td>{0: [box=[547.648193359375, 97.87193298339844,...</td>\n",
       "    </tr>\n",
       "  </tbody>\n",
       "</table>\n",
       "</div>"
      ],
      "text/plain": [
       "                 model  gpu     video_file  batch_size  n_frames  \\\n",
       "0  owlvit-large-p14-hf  cpu   data/720.mp4           1         3   \n",
       "1  owlvit-large-p14-hf  cpu  data/1080.mp4           1         3   \n",
       "\n",
       "   pre_processing_fps  inference_fps  post_processing_fps  video_fps  \\\n",
       "0            0.358228       0.110247          1414.446043   0.085714   \n",
       "1            0.257969       0.114098          2181.881741   0.081081   \n",
       "\n",
       "   pre_processing_time  inference_time  post_processing_time  \\\n",
       "0             8.374552       27.211684              0.002121   \n",
       "1            11.629296       26.293289              0.001375   \n",
       "\n",
       "   video_processing_time                  start_time  \\\n",
       "0                     35  2024-06-12T00:39:12.774421   \n",
       "1                     37  2024-06-12T00:39:48.429717   \n",
       "\n",
       "                     end_time  \\\n",
       "0  2024-06-12T00:39:48.422247   \n",
       "1  2024-06-12T00:40:26.408882   \n",
       "\n",
       "                                         record_file prompt  \\\n",
       "0  experiments/owlvit/exp-owlvit-large-p14-hf-cpu...   face   \n",
       "1  experiments/owlvit/exp-owlvit-large-p14-hf-cpu...   face   \n",
       "\n",
       "                                                data  \n",
       "0  {0: [box=[366.6923522949219, 66.16351318359375...  \n",
       "1  {0: [box=[547.648193359375, 97.87193298339844,...  "
      ]
     },
     "execution_count": 10,
     "metadata": {},
     "output_type": "execute_result"
    }
   ],
   "source": [
    "import pandas as pd\n",
    "\n",
    "df = pd.DataFrame(rows, columns=columns)\n",
    "df.head(10)"
   ]
  },
  {
   "cell_type": "code",
   "execution_count": 11,
   "id": "1988b81b",
   "metadata": {},
   "outputs": [],
   "source": [
    "from datetime import datetime\n",
    "now = datetime.now()\n",
    "csv_file = f\"zz-{MODEL}-{get_gpu_name()}-{now.day}-{now.hour}-{now.minute}.csv\"\n",
    "df.to_csv(csv_file)"
   ]
  },
  {
   "cell_type": "code",
   "execution_count": null,
   "id": "1df741e2",
   "metadata": {},
   "outputs": [],
   "source": []
  }
 ],
 "metadata": {
  "kernelspec": {
   "display_name": "Python 3 (ipykernel)",
   "language": "python",
   "name": "python3"
  },
  "language_info": {
   "codemirror_mode": {
    "name": "ipython",
    "version": 3
   },
   "file_extension": ".py",
   "mimetype": "text/x-python",
   "name": "python",
   "nbconvert_exporter": "python",
   "pygments_lexer": "ipython3",
   "version": "3.10.11"
  }
 },
 "nbformat": 4,
 "nbformat_minor": 5
}
