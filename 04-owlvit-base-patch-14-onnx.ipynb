{
 "cells": [
  {
   "cell_type": "code",
   "execution_count": 3,
   "id": "abddf18a-23c4-4684-a3cb-d6aa4cfc4cbd",
   "metadata": {
    "tags": []
   },
   "outputs": [
    {
     "name": "stdout",
     "output_type": "stream",
     "text": [
      "\n",
      "\u001b[1m[\u001b[0m\u001b[34;49mnotice\u001b[0m\u001b[1;39;49m]\u001b[0m\u001b[39;49m A new release of pip is available: \u001b[0m\u001b[31;49m24.0\u001b[0m\u001b[39;49m -> \u001b[0m\u001b[32;49m24.1.1\u001b[0m\n",
      "\u001b[1m[\u001b[0m\u001b[34;49mnotice\u001b[0m\u001b[1;39;49m]\u001b[0m\u001b[39;49m To update, run: \u001b[0m\u001b[32;49mpip install --upgrade pip\u001b[0m\n",
      "\n",
      "\u001b[1m[\u001b[0m\u001b[34;49mnotice\u001b[0m\u001b[1;39;49m]\u001b[0m\u001b[39;49m A new release of pip is available: \u001b[0m\u001b[31;49m24.0\u001b[0m\u001b[39;49m -> \u001b[0m\u001b[32;49m24.1.1\u001b[0m\n",
      "\u001b[1m[\u001b[0m\u001b[34;49mnotice\u001b[0m\u001b[1;39;49m]\u001b[0m\u001b[39;49m To update, run: \u001b[0m\u001b[32;49mpip install --upgrade pip\u001b[0m\n",
      "\n",
      "\u001b[1m[\u001b[0m\u001b[34;49mnotice\u001b[0m\u001b[1;39;49m]\u001b[0m\u001b[39;49m A new release of pip is available: \u001b[0m\u001b[31;49m24.0\u001b[0m\u001b[39;49m -> \u001b[0m\u001b[32;49m24.1.1\u001b[0m\n",
      "\u001b[1m[\u001b[0m\u001b[34;49mnotice\u001b[0m\u001b[1;39;49m]\u001b[0m\u001b[39;49m To update, run: \u001b[0m\u001b[32;49mpip install --upgrade pip\u001b[0m\n",
      "\n",
      "\u001b[1m[\u001b[0m\u001b[34;49mnotice\u001b[0m\u001b[1;39;49m]\u001b[0m\u001b[39;49m A new release of pip is available: \u001b[0m\u001b[31;49m24.0\u001b[0m\u001b[39;49m -> \u001b[0m\u001b[32;49m24.1.1\u001b[0m\n",
      "\u001b[1m[\u001b[0m\u001b[34;49mnotice\u001b[0m\u001b[1;39;49m]\u001b[0m\u001b[39;49m To update, run: \u001b[0m\u001b[32;49mpip install --upgrade pip\u001b[0m\n",
      "\n",
      "\u001b[1m[\u001b[0m\u001b[34;49mnotice\u001b[0m\u001b[1;39;49m]\u001b[0m\u001b[39;49m A new release of pip is available: \u001b[0m\u001b[31;49m24.0\u001b[0m\u001b[39;49m -> \u001b[0m\u001b[32;49m24.1.1\u001b[0m\n",
      "\u001b[1m[\u001b[0m\u001b[34;49mnotice\u001b[0m\u001b[1;39;49m]\u001b[0m\u001b[39;49m To update, run: \u001b[0m\u001b[32;49mpip install --upgrade pip\u001b[0m\n",
      "\n",
      "\u001b[1m[\u001b[0m\u001b[34;49mnotice\u001b[0m\u001b[1;39;49m]\u001b[0m\u001b[39;49m A new release of pip is available: \u001b[0m\u001b[31;49m24.0\u001b[0m\u001b[39;49m -> \u001b[0m\u001b[32;49m24.1.1\u001b[0m\n",
      "\u001b[1m[\u001b[0m\u001b[34;49mnotice\u001b[0m\u001b[1;39;49m]\u001b[0m\u001b[39;49m To update, run: \u001b[0m\u001b[32;49mpip install --upgrade pip\u001b[0m\n",
      "\n",
      "\u001b[1m[\u001b[0m\u001b[34;49mnotice\u001b[0m\u001b[1;39;49m]\u001b[0m\u001b[39;49m A new release of pip is available: \u001b[0m\u001b[31;49m24.0\u001b[0m\u001b[39;49m -> \u001b[0m\u001b[32;49m24.1.1\u001b[0m\n",
      "\u001b[1m[\u001b[0m\u001b[34;49mnotice\u001b[0m\u001b[1;39;49m]\u001b[0m\u001b[39;49m To update, run: \u001b[0m\u001b[32;49mpip install --upgrade pip\u001b[0m\n",
      "\n",
      "\u001b[1m[\u001b[0m\u001b[34;49mnotice\u001b[0m\u001b[1;39;49m]\u001b[0m\u001b[39;49m A new release of pip is available: \u001b[0m\u001b[31;49m24.0\u001b[0m\u001b[39;49m -> \u001b[0m\u001b[32;49m24.1.1\u001b[0m\n",
      "\u001b[1m[\u001b[0m\u001b[34;49mnotice\u001b[0m\u001b[1;39;49m]\u001b[0m\u001b[39;49m To update, run: \u001b[0m\u001b[32;49mpip install --upgrade pip\u001b[0m\n"
     ]
    }
   ],
   "source": [
    "!python -m pip install -q transformers\n",
    "!python -m pip install -q pillow\n",
    "!python -m pip install -q loguru\n",
    "!python -m pip install -q pydantic\n",
    "!python -m pip install -q pandas\n",
    "!python -m pip install -q opencv-python\n",
    "!python -m pip install -q optimum[onnxruntime]\n",
    "!python -m pip install -q supervision"
   ]
  },
  {
   "cell_type": "code",
   "execution_count": 4,
   "id": "a7a195d6-ce49-4b92-add1-6aa200c422cc",
   "metadata": {
    "tags": []
   },
   "outputs": [],
   "source": [
    "from PIL import Image\n",
    "import torch\n",
    "import cv2\n",
    "\n",
    "from optimum.onnxruntime import ORTModelForCustomTasks\n",
    "from transformers import CLIPTokenizerFast,OwlViTImageProcessor"
   ]
  },
  {
   "cell_type": "code",
   "execution_count": 5,
   "id": "01234fcb",
   "metadata": {},
   "outputs": [],
   "source": [
    "def read_video(video_path, skip_frames=0):\n",
    "    cap = cv2.VideoCapture(video_path)\n",
    "    frame_id = 0\n",
    "\n",
    "    if not cap.isOpened():\n",
    "        raise Exception(f\"Error: Could not open video {video_path}\")\n",
    "\n",
    "    while True:\n",
    "        ret, frame = cap.read()\n",
    "        if not ret:\n",
    "            break\n",
    "        yield frame_id, frame\n",
    "\n",
    "        if not skip_frames:\n",
    "            frame_id += 1\n",
    "\n",
    "        # Skip the specified number of frames and maintain frame_id\n",
    "        for _ in range(skip_frames):\n",
    "            ret = cap.grab()  # Just grab the frame without decoding\n",
    "            if ret:\n",
    "                frame_id += 1\n",
    "            else:\n",
    "                break\n",
    "\n",
    "    cap.release()\n",
    "\n"
   ]
  },
  {
   "cell_type": "code",
   "execution_count": 6,
   "id": "8c221feb",
   "metadata": {},
   "outputs": [
    {
     "data": {
      "text/plain": [
       "283"
      ]
     },
     "execution_count": 6,
     "metadata": {},
     "output_type": "execute_result"
    }
   ],
   "source": [
    "vid_file = \"./data/1080.mp4\"\n",
    "video = {frame_id: frame for  frame_id, frame in read_video(vid_file)}\n",
    "len(video)"
   ]
  },
  {
   "cell_type": "code",
   "execution_count": 7,
   "id": "17c0b389",
   "metadata": {},
   "outputs": [],
   "source": [
    "w,h = video[0].shape[1], video[0].shape[0]\n",
    "target_size=[(w, h)]"
   ]
  },
  {
   "cell_type": "code",
   "execution_count": 8,
   "id": "98395948-5a69-451b-98b5-be1c2fb197ee",
   "metadata": {
    "tags": []
   },
   "outputs": [
    {
     "data": {
      "text/plain": [
       "'cpu'"
      ]
     },
     "execution_count": 8,
     "metadata": {},
     "output_type": "execute_result"
    }
   ],
   "source": [
    "device = \"cuda\" if torch.cuda.is_available() else \"cpu\"\n",
    "device"
   ]
  },
  {
   "cell_type": "code",
   "execution_count": 9,
   "id": "399e333d-a46c-4cbb-a76b-0fbf7f01e3ec",
   "metadata": {
    "tags": []
   },
   "outputs": [
    {
     "name": "stderr",
     "output_type": "stream",
     "text": [
      "The ONNX file onnx/model_quantized.onnx is not a regular name used in optimum.onnxruntime, the ORTModel might not behave as expected.\n"
     ]
    },
    {
     "name": "stderr",
     "output_type": "stream",
     "text": [
      "/Users/tarik.setia/lab/cv-benchmark/.venv/lib/python3.10/site-packages/transformers/models/owlvit/feature_extraction_owlvit.py:28: FutureWarning: The class OwlViTFeatureExtractor is deprecated and will be removed in version 5 of Transformers. Please use OwlViTImageProcessor instead.\n",
      "  warnings.warn(\n"
     ]
    }
   ],
   "source": [
    "model = ORTModelForCustomTasks.from_pretrained(\"./owlvit-large-patch14\", file_name=\"onnx/model_quantized.onnx\",cache_dir=\"./huggingface\")\n",
    "tokenizer = CLIPTokenizerFast.from_pretrained(\"Xenova/owlvit-large-patch14\")\n",
    "im_processor = OwlViTImageProcessor.from_pretrained(\"Xenova/owlvit-large-patch14\")"
   ]
  },
  {
   "cell_type": "code",
   "execution_count": 12,
   "id": "c094f730",
   "metadata": {},
   "outputs": [
    {
     "data": {
      "text/plain": [
       "(tensor([[1, 1, 1, 1, 0, 0, 0, 0, 0, 0, 0, 0, 0, 0, 0, 0]]),\n",
       " tensor([[49406,  2751,  1710, 49407,     0,     0,     0,     0,     0,     0,\n",
       "              0,     0,     0,     0,     0,     0]]))"
      ]
     },
     "execution_count": 12,
     "metadata": {},
     "output_type": "execute_result"
    }
   ],
   "source": [
    "prompt = \"human face\"\n",
    "text_inputs = tokenizer(prompt, padding=\"max_length\", return_tensors='pt')\n",
    "input_ids = text_inputs['input_ids']\n",
    "attention_mask = text_inputs['attention_mask']\n",
    "attention_mask, input_ids"
   ]
  },
  {
   "cell_type": "code",
   "execution_count": 19,
   "id": "dd6fdff4",
   "metadata": {},
   "outputs": [
    {
     "name": "stderr",
     "output_type": "stream",
     "text": [
      "Unused or unrecognized kwargs: return_tensor.\n"
     ]
    }
   ],
   "source": [
    "frames = im_processor([Image.fromarray(frame) for frame in video.values()], return_tensor=\"pt\")[\"pixel_values\"]\n"
   ]
  },
  {
   "cell_type": "code",
   "execution_count": 20,
   "id": "b1ca1fd5",
   "metadata": {},
   "outputs": [
    {
     "data": {
      "text/plain": [
       "(3, 840, 840)"
      ]
     },
     "execution_count": 20,
     "metadata": {},
     "output_type": "execute_result"
    }
   ],
   "source": [
    "frames[0].shape"
   ]
  },
  {
   "cell_type": "code",
   "execution_count": 21,
   "id": "1ddb1450",
   "metadata": {},
   "outputs": [
    {
     "name": "stderr",
     "output_type": "stream",
     "text": [
      "/var/folders/3h/rh35kxps1_q0f42hby8yc0j8f320cp/T/ipykernel_38735/306929315.py:4: UserWarning: Creating a tensor from a list of numpy.ndarrays is extremely slow. Please consider converting the list to a single numpy.ndarray with numpy.array() before converting to a tensor. (Triggered internally at /Users/runner/work/pytorch/pytorch/pytorch/torch/csrc/utils/tensor_new.cpp:277.)\n",
      "  detections = model(pixel_values=torch.Tensor([frame]), input_ids=input_ids, attention_mask=attention_mask)\n"
     ]
    },
    {
     "ename": "KeyboardInterrupt",
     "evalue": "",
     "output_type": "error",
     "traceback": [
      "\u001b[0;31m---------------------------------------------------------------------------\u001b[0m",
      "\u001b[0;31mKeyboardInterrupt\u001b[0m                         Traceback (most recent call last)",
      "Cell \u001b[0;32mIn[21], line 4\u001b[0m\n\u001b[1;32m      1\u001b[0m results \u001b[38;5;241m=\u001b[39m {}\n\u001b[1;32m      3\u001b[0m \u001b[38;5;28;01mfor\u001b[39;00m idx, frame \u001b[38;5;129;01min\u001b[39;00m \u001b[38;5;28menumerate\u001b[39m(frames):\n\u001b[0;32m----> 4\u001b[0m     detections \u001b[38;5;241m=\u001b[39m \u001b[43mmodel\u001b[49m\u001b[43m(\u001b[49m\u001b[43mpixel_values\u001b[49m\u001b[38;5;241;43m=\u001b[39;49m\u001b[43mtorch\u001b[49m\u001b[38;5;241;43m.\u001b[39;49m\u001b[43mTensor\u001b[49m\u001b[43m(\u001b[49m\u001b[43m[\u001b[49m\u001b[43mframe\u001b[49m\u001b[43m]\u001b[49m\u001b[43m)\u001b[49m\u001b[43m,\u001b[49m\u001b[43m \u001b[49m\u001b[43minput_ids\u001b[49m\u001b[38;5;241;43m=\u001b[39;49m\u001b[43minput_ids\u001b[49m\u001b[43m,\u001b[49m\u001b[43m \u001b[49m\u001b[43mattention_mask\u001b[49m\u001b[38;5;241;43m=\u001b[39;49m\u001b[43mattention_mask\u001b[49m\u001b[43m)\u001b[49m\n\u001b[1;32m      5\u001b[0m     detections \u001b[38;5;241m=\u001b[39m im_processor\u001b[38;5;241m.\u001b[39mpost_process_object_detection(detections, target_sizes\u001b[38;5;241m=\u001b[39mtarget_size)[\u001b[38;5;241m0\u001b[39m]\n\u001b[1;32m      6\u001b[0m     results[idx] \u001b[38;5;241m=\u001b[39m detections\n",
      "File \u001b[0;32m~/lab/cv-benchmark/.venv/lib/python3.10/site-packages/optimum/modeling_base.py:92\u001b[0m, in \u001b[0;36mOptimizedModel.__call__\u001b[0;34m(self, *args, **kwargs)\u001b[0m\n\u001b[1;32m     91\u001b[0m \u001b[38;5;28;01mdef\u001b[39;00m \u001b[38;5;21m__call__\u001b[39m(\u001b[38;5;28mself\u001b[39m, \u001b[38;5;241m*\u001b[39margs, \u001b[38;5;241m*\u001b[39m\u001b[38;5;241m*\u001b[39mkwargs):\n\u001b[0;32m---> 92\u001b[0m     \u001b[38;5;28;01mreturn\u001b[39;00m \u001b[38;5;28;43mself\u001b[39;49m\u001b[38;5;241;43m.\u001b[39;49m\u001b[43mforward\u001b[49m\u001b[43m(\u001b[49m\u001b[38;5;241;43m*\u001b[39;49m\u001b[43margs\u001b[49m\u001b[43m,\u001b[49m\u001b[43m \u001b[49m\u001b[38;5;241;43m*\u001b[39;49m\u001b[38;5;241;43m*\u001b[39;49m\u001b[43mkwargs\u001b[49m\u001b[43m)\u001b[49m\n",
      "File \u001b[0;32m~/lab/cv-benchmark/.venv/lib/python3.10/site-packages/optimum/onnxruntime/modeling_ort.py:2266\u001b[0m, in \u001b[0;36mORTModelForCustomTasks.forward\u001b[0;34m(self, **kwargs)\u001b[0m\n\u001b[1;32m   2263\u001b[0m onnx_inputs \u001b[38;5;241m=\u001b[39m \u001b[38;5;28mself\u001b[39m\u001b[38;5;241m.\u001b[39m_prepare_onnx_inputs(use_torch\u001b[38;5;241m=\u001b[39muse_torch, \u001b[38;5;241m*\u001b[39m\u001b[38;5;241m*\u001b[39mkwargs)\n\u001b[1;32m   2265\u001b[0m \u001b[38;5;66;03m# run inference\u001b[39;00m\n\u001b[0;32m-> 2266\u001b[0m onnx_outputs \u001b[38;5;241m=\u001b[39m \u001b[38;5;28;43mself\u001b[39;49m\u001b[38;5;241;43m.\u001b[39;49m\u001b[43mmodel\u001b[49m\u001b[38;5;241;43m.\u001b[39;49m\u001b[43mrun\u001b[49m\u001b[43m(\u001b[49m\u001b[38;5;28;43;01mNone\u001b[39;49;00m\u001b[43m,\u001b[49m\u001b[43m \u001b[49m\u001b[43monnx_inputs\u001b[49m\u001b[43m)\u001b[49m\n\u001b[1;32m   2267\u001b[0m outputs \u001b[38;5;241m=\u001b[39m \u001b[38;5;28mself\u001b[39m\u001b[38;5;241m.\u001b[39m_prepare_onnx_outputs(onnx_outputs, use_torch\u001b[38;5;241m=\u001b[39muse_torch)\n\u001b[1;32m   2269\u001b[0m \u001b[38;5;66;03m# converts output to namedtuple for pipelines post-processing\u001b[39;00m\n",
      "File \u001b[0;32m~/lab/cv-benchmark/.venv/lib/python3.10/site-packages/onnxruntime/capi/onnxruntime_inference_collection.py:220\u001b[0m, in \u001b[0;36mSession.run\u001b[0;34m(self, output_names, input_feed, run_options)\u001b[0m\n\u001b[1;32m    218\u001b[0m     output_names \u001b[38;5;241m=\u001b[39m [output\u001b[38;5;241m.\u001b[39mname \u001b[38;5;28;01mfor\u001b[39;00m output \u001b[38;5;129;01min\u001b[39;00m \u001b[38;5;28mself\u001b[39m\u001b[38;5;241m.\u001b[39m_outputs_meta]\n\u001b[1;32m    219\u001b[0m \u001b[38;5;28;01mtry\u001b[39;00m:\n\u001b[0;32m--> 220\u001b[0m     \u001b[38;5;28;01mreturn\u001b[39;00m \u001b[38;5;28;43mself\u001b[39;49m\u001b[38;5;241;43m.\u001b[39;49m\u001b[43m_sess\u001b[49m\u001b[38;5;241;43m.\u001b[39;49m\u001b[43mrun\u001b[49m\u001b[43m(\u001b[49m\u001b[43moutput_names\u001b[49m\u001b[43m,\u001b[49m\u001b[43m \u001b[49m\u001b[43minput_feed\u001b[49m\u001b[43m,\u001b[49m\u001b[43m \u001b[49m\u001b[43mrun_options\u001b[49m\u001b[43m)\u001b[49m\n\u001b[1;32m    221\u001b[0m \u001b[38;5;28;01mexcept\u001b[39;00m C\u001b[38;5;241m.\u001b[39mEPFail \u001b[38;5;28;01mas\u001b[39;00m err:\n\u001b[1;32m    222\u001b[0m     \u001b[38;5;28;01mif\u001b[39;00m \u001b[38;5;28mself\u001b[39m\u001b[38;5;241m.\u001b[39m_enable_fallback:\n",
      "\u001b[0;31mKeyboardInterrupt\u001b[0m: "
     ]
    }
   ],
   "source": [
    "results = {}\n",
    "\n",
    "for idx, frame in enumerate(frames):\n",
    "    detections = model(pixel_values=torch.Tensor([frame]), input_ids=input_ids, attention_mask=attention_mask)\n",
    "    detections = im_processor.post_process_object_detection(detections, target_sizes=target_size)[0]\n",
    "    results[idx] = detections\n",
    "    print(detections)"
   ]
  },
  {
   "cell_type": "code",
   "execution_count": 7,
   "id": "4ae86f6e-db78-414d-ab17-552556e08bd4",
   "metadata": {
    "tags": []
   },
   "outputs": [],
   "source": [
    "\n",
    "import time\n",
    "import torch\n",
    "from utils.protocols import OwlVit\n",
    "from utils.utils import convert_model_detection\n",
    "from utils.video import read_video\n",
    "from utils.utils import get_file_name, get_gpu_name\n",
    "from loguru import logger\n",
    "from datetime import datetime\n",
    "\n",
    "MODEL= \"owlvit-large-p14-hf\"\n",
    "\n",
    "text = \"face\"\n",
    "BASE_DIR = \"experiments/owlvit\"\n",
    "\n",
    "def run_model(frames):\n",
    "    results = {}\n",
    "    for frame_id, frame in frames.items():\n",
    "        with torch.no_grad():\n",
    "        #with torch.inference_mode():\n",
    "            outputs = model(**frame)\n",
    "            results[frame_id] = outputs\n",
    "    return results\n",
    "\n",
    "def process_video(video, frames=[]):\n",
    "    start_time = datetime.now()\n",
    "    target_sizes = None\n",
    "    \n",
    "    frames_ = {}\n",
    "    start = time.time()\n",
    "    for frame_id, frame in read_video(video):\n",
    "        image = Image.fromarray(frame.astype(\"uint8\"))\n",
    "        inputs = processor(images=image, text=text, return_tensors=\"pt\").to(device)\n",
    "        frames_[frame_id] = inputs\n",
    "        if target_sizes is None:\n",
    "            target_sizes = torch.Tensor([image.size[::-1]])\n",
    "    \n",
    "    pre_processing_time = time.time() - start\n",
    "    \n",
    "    n_frames = len(frames_)\n",
    "    \n",
    "    start = time.time()\n",
    "    outputs = run_model(frames_)\n",
    "    inference_time = time.time() - start\n",
    "    \n",
    "    results = {}\n",
    "    start = time.time()\n",
    "    for frame_id, output in outputs.items():    \n",
    "        detections = processor.post_process_object_detection(outputs=output, threshold=0.1, target_sizes=target_sizes)\n",
    "        results[frame_id] = convert_model_detection(detections[0])\n",
    "    post_processing_time = time.time() - start\n",
    "\n",
    "    end_time = datetime.now()\n",
    "    \n",
    "    exp =  OwlVit(\n",
    "        model=MODEL,\n",
    "        gpu=get_gpu_name(),\n",
    "        video_file=video,\n",
    "        frames=None if not frames else frames,\n",
    "        n_frames=n_frames,\n",
    "        \n",
    "        pre_processing_time=pre_processing_time,\n",
    "        inference_time=inference_time,\n",
    "        post_processing_time=post_processing_time,\n",
    "        video_processing_time=(end_time-start_time).seconds,\n",
    "       \n",
    "        start_time=start_time.isoformat(),\n",
    "        end_time=end_time.isoformat(),\n",
    "        record_file=get_file_name(BASE_DIR, start, MODEL, video),\n",
    "        \n",
    "        data=results,\n",
    "        prompt=text,\n",
    "        \n",
    "    )\n",
    "    exp.save()\n",
    "    exp.log()\n",
    "    torch.cuda.empty_cache()\n",
    "    return exp"
   ]
  },
  {
   "cell_type": "code",
   "execution_count": 8,
   "id": "fceb8fc2-5ccd-459c-b5bb-f95a416b0514",
   "metadata": {
    "tags": []
   },
   "outputs": [
    {
     "name": "stderr",
     "output_type": "stream",
     "text": [
      "\u001b[32m2024-06-12 00:39:12.774\u001b[0m | \u001b[1mINFO    \u001b[0m | \u001b[36m__main__\u001b[0m:\u001b[36mprocess_video\u001b[0m:\u001b[36m26\u001b[0m - \u001b[1mReading Frame\u001b[0m\n",
      "\u001b[32m2024-06-12 00:39:21.206\u001b[0m | \u001b[1mINFO    \u001b[0m | \u001b[36m__main__\u001b[0m:\u001b[36mprocess_video\u001b[0m:\u001b[36m39\u001b[0m - \u001b[1mnframes = 3\u001b[0m\n",
      "\u001b[32m2024-06-12 00:39:21.207\u001b[0m | \u001b[1mINFO    \u001b[0m | \u001b[36m__main__\u001b[0m:\u001b[36mprocess_video\u001b[0m:\u001b[36m40\u001b[0m - \u001b[1mRunning MOdel\u001b[0m\n",
      "\u001b[32m2024-06-12 00:39:48.419\u001b[0m | \u001b[1mINFO    \u001b[0m | \u001b[36m__main__\u001b[0m:\u001b[36mprocess_video\u001b[0m:\u001b[36m45\u001b[0m - \u001b[1mRunning Postprocessing\u001b[0m\n",
      "\u001b[32m2024-06-12 00:39:48.421\u001b[0m | \u001b[1mINFO    \u001b[0m | \u001b[36m__main__\u001b[0m:\u001b[36mprocess_video\u001b[0m:\u001b[36m53\u001b[0m - \u001b[1mDone!\u001b[0m\n",
      "\u001b[32m2024-06-12 00:39:48.423\u001b[0m | \u001b[1mINFO    \u001b[0m | \u001b[36mutils.protocols\u001b[0m:\u001b[36mlog\u001b[0m:\u001b[36m113\u001b[0m - \u001b[1mdata/720.mp4 | frames=3 | model_fps=0.11024676022476197 | inference_time=27.211683988571167 | preprocess_time=8.374552011489868\u001b[0m\n",
      "\u001b[32m2024-06-12 00:39:48.429\u001b[0m | \u001b[1mINFO    \u001b[0m | \u001b[36m__main__\u001b[0m:\u001b[36mprocess_video\u001b[0m:\u001b[36m26\u001b[0m - \u001b[1mReading Frame\u001b[0m\n",
      "\u001b[32m2024-06-12 00:40:00.111\u001b[0m | \u001b[1mINFO    \u001b[0m | \u001b[36m__main__\u001b[0m:\u001b[36mprocess_video\u001b[0m:\u001b[36m39\u001b[0m - \u001b[1mnframes = 3\u001b[0m\n",
      "\u001b[32m2024-06-12 00:40:00.112\u001b[0m | \u001b[1mINFO    \u001b[0m | \u001b[36m__main__\u001b[0m:\u001b[36mprocess_video\u001b[0m:\u001b[36m40\u001b[0m - \u001b[1mRunning MOdel\u001b[0m\n",
      "\u001b[32m2024-06-12 00:40:26.406\u001b[0m | \u001b[1mINFO    \u001b[0m | \u001b[36m__main__\u001b[0m:\u001b[36mprocess_video\u001b[0m:\u001b[36m45\u001b[0m - \u001b[1mRunning Postprocessing\u001b[0m\n",
      "\u001b[32m2024-06-12 00:40:26.408\u001b[0m | \u001b[1mINFO    \u001b[0m | \u001b[36m__main__\u001b[0m:\u001b[36mprocess_video\u001b[0m:\u001b[36m53\u001b[0m - \u001b[1mDone!\u001b[0m\n",
      "\u001b[32m2024-06-12 00:40:26.409\u001b[0m | \u001b[1mINFO    \u001b[0m | \u001b[36mutils.protocols\u001b[0m:\u001b[36mlog\u001b[0m:\u001b[36m113\u001b[0m - \u001b[1mdata/1080.mp4 | frames=3 | model_fps=0.11409755569734754 | inference_time=26.293288946151733 | preprocess_time=11.629296064376831\u001b[0m\n"
     ]
    }
   ],
   "source": [
    "results = []\n",
    "for i in range(1):\n",
    "    vid_hd = process_video(\"data/720.mp4\")\n",
    "    results.append(vid_hd)\n",
    "    vid_fhd = process_video(\"data/1080.mp4\")\n",
    "    results.append(vid_fhd)"
   ]
  },
  {
   "cell_type": "code",
   "execution_count": 9,
   "id": "c1d4e69a-c183-4acd-a2f9-88b90555aeeb",
   "metadata": {
    "tags": []
   },
   "outputs": [],
   "source": [
    "columns = results[0].columns\n",
    "rows = [result.row for result in results]"
   ]
  },
  {
   "cell_type": "code",
   "execution_count": 10,
   "id": "49ddafb9-ff66-474d-909a-45d9c2ad6b35",
   "metadata": {},
   "outputs": [
    {
     "data": {
      "text/html": [
       "<div>\n",
       "<style scoped>\n",
       "    .dataframe tbody tr th:only-of-type {\n",
       "        vertical-align: middle;\n",
       "    }\n",
       "\n",
       "    .dataframe tbody tr th {\n",
       "        vertical-align: top;\n",
       "    }\n",
       "\n",
       "    .dataframe thead th {\n",
       "        text-align: right;\n",
       "    }\n",
       "</style>\n",
       "<table border=\"1\" class=\"dataframe\">\n",
       "  <thead>\n",
       "    <tr style=\"text-align: right;\">\n",
       "      <th></th>\n",
       "      <th>model</th>\n",
       "      <th>gpu</th>\n",
       "      <th>video_file</th>\n",
       "      <th>batch_size</th>\n",
       "      <th>n_frames</th>\n",
       "      <th>pre_processing_fps</th>\n",
       "      <th>inference_fps</th>\n",
       "      <th>post_processing_fps</th>\n",
       "      <th>video_fps</th>\n",
       "      <th>pre_processing_time</th>\n",
       "      <th>inference_time</th>\n",
       "      <th>post_processing_time</th>\n",
       "      <th>video_processing_time</th>\n",
       "      <th>start_time</th>\n",
       "      <th>end_time</th>\n",
       "      <th>record_file</th>\n",
       "      <th>prompt</th>\n",
       "      <th>data</th>\n",
       "    </tr>\n",
       "  </thead>\n",
       "  <tbody>\n",
       "    <tr>\n",
       "      <th>0</th>\n",
       "      <td>owlvit-large-p14-hf</td>\n",
       "      <td>cpu</td>\n",
       "      <td>data/720.mp4</td>\n",
       "      <td>1</td>\n",
       "      <td>3</td>\n",
       "      <td>0.358228</td>\n",
       "      <td>0.110247</td>\n",
       "      <td>1414.446043</td>\n",
       "      <td>0.085714</td>\n",
       "      <td>8.374552</td>\n",
       "      <td>27.211684</td>\n",
       "      <td>0.002121</td>\n",
       "      <td>35</td>\n",
       "      <td>2024-06-12T00:39:12.774421</td>\n",
       "      <td>2024-06-12T00:39:48.422247</td>\n",
       "      <td>experiments/owlvit/exp-owlvit-large-p14-hf-cpu...</td>\n",
       "      <td>face</td>\n",
       "      <td>{0: [box=[366.6923522949219, 66.16351318359375...</td>\n",
       "    </tr>\n",
       "    <tr>\n",
       "      <th>1</th>\n",
       "      <td>owlvit-large-p14-hf</td>\n",
       "      <td>cpu</td>\n",
       "      <td>data/1080.mp4</td>\n",
       "      <td>1</td>\n",
       "      <td>3</td>\n",
       "      <td>0.257969</td>\n",
       "      <td>0.114098</td>\n",
       "      <td>2181.881741</td>\n",
       "      <td>0.081081</td>\n",
       "      <td>11.629296</td>\n",
       "      <td>26.293289</td>\n",
       "      <td>0.001375</td>\n",
       "      <td>37</td>\n",
       "      <td>2024-06-12T00:39:48.429717</td>\n",
       "      <td>2024-06-12T00:40:26.408882</td>\n",
       "      <td>experiments/owlvit/exp-owlvit-large-p14-hf-cpu...</td>\n",
       "      <td>face</td>\n",
       "      <td>{0: [box=[547.648193359375, 97.87193298339844,...</td>\n",
       "    </tr>\n",
       "  </tbody>\n",
       "</table>\n",
       "</div>"
      ],
      "text/plain": [
       "                 model  gpu     video_file  batch_size  n_frames  \\\n",
       "0  owlvit-large-p14-hf  cpu   data/720.mp4           1         3   \n",
       "1  owlvit-large-p14-hf  cpu  data/1080.mp4           1         3   \n",
       "\n",
       "   pre_processing_fps  inference_fps  post_processing_fps  video_fps  \\\n",
       "0            0.358228       0.110247          1414.446043   0.085714   \n",
       "1            0.257969       0.114098          2181.881741   0.081081   \n",
       "\n",
       "   pre_processing_time  inference_time  post_processing_time  \\\n",
       "0             8.374552       27.211684              0.002121   \n",
       "1            11.629296       26.293289              0.001375   \n",
       "\n",
       "   video_processing_time                  start_time  \\\n",
       "0                     35  2024-06-12T00:39:12.774421   \n",
       "1                     37  2024-06-12T00:39:48.429717   \n",
       "\n",
       "                     end_time  \\\n",
       "0  2024-06-12T00:39:48.422247   \n",
       "1  2024-06-12T00:40:26.408882   \n",
       "\n",
       "                                         record_file prompt  \\\n",
       "0  experiments/owlvit/exp-owlvit-large-p14-hf-cpu...   face   \n",
       "1  experiments/owlvit/exp-owlvit-large-p14-hf-cpu...   face   \n",
       "\n",
       "                                                data  \n",
       "0  {0: [box=[366.6923522949219, 66.16351318359375...  \n",
       "1  {0: [box=[547.648193359375, 97.87193298339844,...  "
      ]
     },
     "execution_count": 10,
     "metadata": {},
     "output_type": "execute_result"
    }
   ],
   "source": [
    "import pandas as pd\n",
    "\n",
    "df = pd.DataFrame(rows, columns=columns)\n",
    "df.head(10)"
   ]
  },
  {
   "cell_type": "code",
   "execution_count": 11,
   "id": "1988b81b",
   "metadata": {},
   "outputs": [],
   "source": [
    "from datetime import datetime\n",
    "now = datetime.now()\n",
    "csv_file = f\"zz-{MODEL}-{get_gpu_name()}-{now.day}-{now.hour}-{now.minute}.csv\"\n",
    "df.to_csv(csv_file)"
   ]
  },
  {
   "cell_type": "code",
   "execution_count": null,
   "id": "1df741e2",
   "metadata": {},
   "outputs": [],
   "source": []
  }
 ],
 "metadata": {
  "kernelspec": {
   "display_name": "Python 3 (ipykernel)",
   "language": "python",
   "name": "python3"
  },
  "language_info": {
   "codemirror_mode": {
    "name": "ipython",
    "version": 3
   },
   "file_extension": ".py",
   "mimetype": "text/x-python",
   "name": "python",
   "nbconvert_exporter": "python",
   "pygments_lexer": "ipython3",
   "version": "3.10.13"
  }
 },
 "nbformat": 4,
 "nbformat_minor": 5
}
